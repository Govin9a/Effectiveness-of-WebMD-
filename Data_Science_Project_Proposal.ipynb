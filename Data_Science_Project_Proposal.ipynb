{
 "cells": [
  {
   "cell_type": "markdown",
   "id": "3214e6f3",
   "metadata": {},
   "source": [
    "### Project Titile: \n",
    "Predicting Medicinal Needs from Symptoms using Data scraped from WebMD "
   ]
  },
  {
   "cell_type": "markdown",
   "id": "6a9c8cb4",
   "metadata": {},
   "source": [
    "### Basic Info:\n",
    "Sukrut Shishupal\tsukrut.shishupal@gmail.com\t\tu1401898\n",
    "\n",
    "Govinda Dhakal\t    govindasairam@gmail.com         u0861480\n",
    "\n",
    "Lucia Ranallo\t\tluciaranallo@gmail.com\t\t    u1427138"
   ]
  },
  {
   "cell_type": "markdown",
   "id": "0f93d54c",
   "metadata": {},
   "source": [
    "### Background and Motication: \n",
    "- We are all pursuing our Masters within Biomedical Informatics, so technology within biology and medicine is very interesting to us. We ultimately want to utilize our skills to better improve efficiency within health as well as how biological data is analyzed. This project will allow us to apply what we’ve learned to solve a problem that not only aligns with our interests but also is very practical within the field. \n",
    "- We are trying to address the issue of drug interactions and adverse effects. According to a report by the Centers for Disease Control and Prevention (CDC), adverse drug events (ADEs) account for over 1 million emergency department visits and 280,000 hospitalizations each year in the United States. By developing a drug recommendation system that takes into account a patient's medical history, allergies, and current medications, healthcare providers can potentially reduce the risk of ADEs and improve patient outcomes.\n",
    "- The field of biomedical informatics is rapidly growing, and there is a need for innovative solutions to address healthcare challenges. By working on projects such as this one, individuals can gain valuable experience in data analysis, machine learning, and healthcare informatics, which may lead to future career opportunities in the field.\n"
   ]
  },
  {
   "cell_type": "markdown",
   "id": "b855566b",
   "metadata": {},
   "source": [
    "### Project Objectives:\n",
    "- The primary objective of this project is to develop a drug recommendation system using machine learning and data scraped from WebMD. We aim to provide a personalized drug recommendation based on the patient’s medical history, allergies and current medication. \n",
    "- The primary question that we try to answer through this project is: What are the most effective features to include in the drug recommendation system to ensure accuracy and personalized recommendation. \n",
    "- How can data scraped from WebMD be preprocessed and analyzed to develop a drug recommendation system. \n",
    "\n",
    "**The Project Aims to accomplish the following:**\n",
    "\n",
    "1) Develop a machine learning model that accurately predicts drug interactions and adverse effects. \n",
    "\n",
    "2) Evaluate the performance of the drug recommendation system using various metrics, such as accuracy and recall. \n",
    "\n",
    "3) Identify the most important features to include in the drug recommendation system to ensure accuracy and personalized recommendation. \n",
    "\n",
    "**The benefit of this project are as follows:**\n",
    "\n",
    "1) Improve patient outcomes by reducing risk of adverse drug events and interactions. \n",
    "\n",
    "2) Enhance healthcare provider decision-making by providing personalized drug recommendations based on patient-specific factors. \n",
    "\n",
    "- Increased knowledge and understanding of machine learning techniques and their applications in healthcare informatics. "
   ]
  },
  {
   "cell_type": "markdown",
   "id": "b49c9397",
   "metadata": {},
   "source": [
    "### Data\n",
    "We will be scraping our data from WebMD posts. These include the symptoms as well as a response including a possible diagnosis.\n",
    "\n",
    "The variables we will consider will be:\n",
    "- Medication (str): What medication the reviews correspond to\n",
    "- Rating (float): What the patient rated their experience\n",
    "- Condition (str): What the medication they were taking was treating\n",
    "- Effectiveness (float): How effective the drug was at treating their condition\n",
    "- Ease of Use (float): How easy it was to follow the prescription\n",
    "- Satisfaction (float): How satisfied they were with the results\n",
    "- Comments (str): Any comments the reviewer attached to their post\n"
   ]
  },
  {
   "cell_type": "markdown",
   "id": "4a56a663",
   "metadata": {},
   "source": [
    "### Ethical considerations\n",
    "We did check the User Content Guidelines on WebMD website (https://www.webmd.com/about-webmd-policies/about-terms-and-conditions-of-use) and here is the following stakeholder analysis: \n",
    "\n",
    "1) Patients: The primary beneficiaries of the project are patients who may benefit from the personalized drug recommendation based on their medical history, allergies and current medication. We try to improve patient outcomes and reduce the risk of adverse drug events and interactions. \n",
    "\n",
    "2) Healthcare providers: Healthcare providers such as physicians and pharmacists, may use drug recommendation systems to make informed decisions about prescribing medications to the patient.\n",
    "\n",
    "3) WebMD: Since we are scraping data from this website, we will make sure that the project is conducted in an ethical and legal manner and that the impact on WebMD website performance and user experience is minimized. \n",
    "\n",
    "4) Data Subjects: The individuals whose data is being scrapped from WebMD will not be used for illegal purposes. We will take appropriate measures to protect the data subject’s privacy and security.\n"
   ]
  },
  {
   "cell_type": "markdown",
   "id": "6617ab09",
   "metadata": {},
   "source": [
    "### Data Processing\n",
    "- Because we will be scraping our data from an outside source, we do expect that a fair amount of data cleaning will be necessary. We will need to sort through which posts contain enough information to be included in our analyses, and also determine how many are necessary to build a successful model, as we will need both training and testing data. From our model we will be able to analyze the RSS and R-squared values to determine how successful our model is. If time, we would also like to perform cross-validation on the model to determine the most successful model based on the data we have. \n",
    "- Since we are scraping the data, we will remove the HTML tags and other irrelevant information. We will be using Python libraries such as BeautifulSoup and Pandas."
   ]
  },
  {
   "cell_type": "markdown",
   "id": "85d7b384",
   "metadata": {},
   "source": [
    "### Exploratory Analysis\n",
    "- We will be scraping from text so most of our data will be strings to begin with but we hope to convert many of our variables to numeric variables. The most effective visualizations will likely include bar charts, box plots, histograms and heatmaps as we will want to compare ratings across multiple drugs. \n",
    "- Feature importance: We will be using feature selection or feature importance techniques to identify the most relevant features or variables in the data that contributes to the outcome. "
   ]
  },
  {
   "cell_type": "markdown",
   "id": "c5d6b65e",
   "metadata": {},
   "source": [
    "### Analysis Methodology\n",
    "- Descriptive statistics: We will calculate basic statistics such as mean, median, mode and standard deviation, and try to gain an understanding of central tendency and variability of the data. \n",
    "- We will further analyze our data by determining if the drug can be predicted based on the condition that is associated with it. We would have a small subset of variables to work with so the accuracy may not be high but we hope to execute the process. \n",
    "- We can also analyze whether there are relationships between effectiveness, ease of use, and satisfaction and understand how those can be visualized. \n"
   ]
  },
  {
   "cell_type": "markdown",
   "id": "760ca2ab",
   "metadata": {},
   "source": [
    "### Project Schedule: \n",
    "- Week 1 (March 20-26): \n",
    "Work on scraping the data and extracting the relevant pieces\n",
    "Determine how many reviewer comments we want to include with each medication\n",
    "We hope to have a final dataset by the end of this week\n",
    "- Week 2 (March 27 - April 2): \n",
    "Clean the data and perform preliminary analyses and plots for variables\n",
    "This will mostly be our exploratory data analysis \n",
    "- Week 3 (April 3-9): \n",
    "Create preliminary models and determine effectiveness of condition predicting the medication\n",
    "Determine if there are any statistical relationships between variables having to do with the individuals’ review\n",
    "- Week 4 (April 10-16): \n",
    "Perform cross-validation on any models and begin final write up of project\n",
    "Create final visualizations\n",
    "- Week 5 (April 17-21): \n",
    "Finish final write up\n"
   ]
  }
 ],
 "metadata": {
  "kernelspec": {
   "display_name": "Python 3 (ipykernel)",
   "language": "python",
   "name": "python3"
  },
  "language_info": {
   "codemirror_mode": {
    "name": "ipython",
    "version": 3
   },
   "file_extension": ".py",
   "mimetype": "text/x-python",
   "name": "python",
   "nbconvert_exporter": "python",
   "pygments_lexer": "ipython3",
   "version": "3.9.7"
  }
 },
 "nbformat": 4,
 "nbformat_minor": 5
}
